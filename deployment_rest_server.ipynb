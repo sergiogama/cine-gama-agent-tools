{
 "cells": [
  {
   "cell_type": "code",
   "execution_count": 48,
   "metadata": {},
   "outputs": [],
   "source": [
    "import os\n",
    "import dotenv\n",
    "\n",
    "dotenv.load_dotenv()\n",
    "\n",
    "# Define your variable in Python\n",
    "os.environ[\"APP_NAME\"] = \"galaxium-booking-system\"\n",
    "os.environ[\"PROJECT_NAME\"] = \"galaxium-travel-services-maxjesch\"\n",
    "os.environ[\"GIT_REPO\"] = \"https://github.com/Max-Jesch/galaxium-travels-infrastructure.git\"\n",
    "os.environ[\"CONTEXT_DIR\"] = \"booking_system\"\n",
    "os.environ[\"RESOURCE_GROUP\"] = \"max_jesch_rg\"\n",
    "\n",
    "# load API_KEY from .env file\n",
    "os.environ[\"API_KEY\"] = os.getenv(\"API_KEY\")\n",
    "\n",
    "\n"
   ]
  },
  {
   "cell_type": "code",
   "execution_count": null,
   "metadata": {},
   "outputs": [],
   "source": [
    "RESOURCE_GROUP"
   ]
  },
  {
   "cell_type": "markdown",
   "metadata": {},
   "source": [
    "# Preperation\n",
    "\n",
    "You might have to install the ibmcloud cli first on your system. This is how I did it for macOS\n",
    "\n",
    "- brew install --cask ibm-cloud-cli\n",
    "- ibmcloud plugin install code-engine"
   ]
  },
  {
   "cell_type": "markdown",
   "metadata": {},
   "source": [
    "# Login"
   ]
  },
  {
   "cell_type": "code",
   "execution_count": null,
   "metadata": {},
   "outputs": [],
   "source": [
    "%%bash\n",
    "# print the API_KEY\n",
    "ibmcloud login --apikey ${API_KEY} -r us-south\n",
    "ibmcloud target -g ${RESOURCE_GROUP}"
   ]
  },
  {
   "cell_type": "markdown",
   "metadata": {},
   "source": [
    "# Create a new IBM Cloud Code Engine application"
   ]
  },
  {
   "cell_type": "code",
   "execution_count": null,
   "metadata": {},
   "outputs": [],
   "source": [
    "%%bash\n",
    "ibmcloud ce project create --name galaxium-travel-services-maxjesch\n",
    "# Select the project (optional, if not already selected)\n",
    "ibmcloud ce project select --name ${PROJECT_NAME}\n",
    "\n",
    "# Create the application\n",
    "ibmcloud ce application create \\\n",
    "  --name ${APP_NAME}\\\n",
    "  --build-source ${GIT_REPO} \\\n",
    "  --build-context-dir ${CONTEXT_DIR} \\\n",
    "  --strategy dockerfile \\"
   ]
  },
  {
   "cell_type": "markdown",
   "metadata": {},
   "source": [
    "# Trigger Redeployment\n",
    "\n",
    "if you have changed something in git you can use this to trigger a redeployment"
   ]
  },
  {
   "cell_type": "code",
   "execution_count": null,
   "metadata": {},
   "outputs": [],
   "source": [
    "%%bash\n",
    "\n",
    "ibmcloud ce project select --name ${PROJECT_NAME}\n",
    "\n",
    "# Create the application\n",
    "ibmcloud ce application update \\\n",
    "  --name ${APP_NAME}\\\n",
    "  --build-source ${GIT_REPO} \\\n",
    "  --build-context-dir ${CONTEXT_DIR} \\\n",
    "  --strategy dockerfile \\"
   ]
  },
  {
   "cell_type": "markdown",
   "metadata": {},
   "source": [
    "# Delete an IBM Cloud Code Engine application\n",
    "\n",
    "you should do this to avoid unnecessary cost"
   ]
  },
  {
   "cell_type": "code",
   "execution_count": null,
   "metadata": {},
   "outputs": [],
   "source": [
    "%%bash\n",
    "\n",
    "# Delete the application (force, no prompt)\n",
    "ibmcloud ce application delete --name ${APP_NAME} --force "
   ]
  }
 ],
 "metadata": {
  "kernelspec": {
   "display_name": ".venv",
   "language": "python",
   "name": "python3"
  },
  "language_info": {
   "codemirror_mode": {
    "name": "ipython",
    "version": 3
   },
   "file_extension": ".py",
   "mimetype": "text/x-python",
   "name": "python",
   "nbconvert_exporter": "python",
   "pygments_lexer": "ipython3",
   "version": "3.13.4"
  }
 },
 "nbformat": 4,
 "nbformat_minor": 2
}
